{
 "cells": [
  {
   "cell_type": "code",
   "execution_count": 3,
   "metadata": {
    "ExecuteTime": {
     "end_time": "2024-03-19T15:29:48.370283Z",
     "start_time": "2024-03-19T15:29:46.349288Z"
    }
   },
   "outputs": [
    {
     "name": "stderr",
     "output_type": "stream",
     "text": [
      "/var/folders/3l/g6ng2bts1j78r5313d79x6fh0000gn/T/ipykernel_26399/3099956142.py:5: DtypeWarning: Columns (22,32,38) have mixed types. Specify dtype option on import or set low_memory=False.\n",
      "  datos = pd.read_csv('permisos_construccion_2.csv')\n"
     ]
    },
    {
     "name": "stdout",
     "output_type": "stream",
     "text": [
      "<bound method NDFrame.head of        Permit Number  Permit Type            Permit Type Definition  \\\n",
      "0            M788927            8            otc alterations permit   \n",
      "1       201305318356            8            otc alterations permit   \n",
      "2       201705106205            8            otc alterations permit   \n",
      "3       201410279983            8            otc alterations permit   \n",
      "4       201310280388            8            otc alterations permit   \n",
      "...              ...          ...                               ...   \n",
      "198905  201604053958            3  additions alterations or repairs   \n",
      "198906  201510270880            8            otc alterations permit   \n",
      "198907  201607293741            8            otc alterations permit   \n",
      "198908  201701066691            8            otc alterations permit   \n",
      "198909  201604255599            8            otc alterations permit   \n",
      "\n",
      "       Permit Creation Date Block   Lot  Street Number Street Number Suffix  \\\n",
      "0                05/23/2017  0215   001           1333                  NaN   \n",
      "1                05/31/2013  1810  017A           1483                  NaN   \n",
      "2                05/10/2017  5700   027            431                  NaN   \n",
      "3                10/27/2014  0661   005           2020                  NaN   \n",
      "4                10/28/2013  3642  051A            871                  NaN   \n",
      "...                     ...   ...   ...            ...                  ...   \n",
      "198905           04/05/2016  7295   021           3251                  NaN   \n",
      "198906           10/27/2015  4009  001A           1919                  NaN   \n",
      "198907           07/29/2016  4262   020           1341                  NaN   \n",
      "198908           01/06/2017  0146   007            660                  NaN   \n",
      "198909           04/25/2016  3708   056            525                  NaN   \n",
      "\n",
      "       Street Name Street Suffix  ...  Existing Construction Type  \\\n",
      "0            jOnEs            St  ...                         NaN   \n",
      "1             43rD            Av  ...                         5.0   \n",
      "2         pReNtIsS            St  ...                         5.0   \n",
      "3             bUsH            St  ...                         5.0   \n",
      "4             cApP            St  ...                         5.0   \n",
      "...            ...           ...  ...                         ...   \n",
      "198905        20tH            Av  ...                         2.0   \n",
      "198906    mArIpOsA            St  ...                         5.0   \n",
      "198907   sAn bRuNo            Av  ...                         5.0   \n",
      "198908    bRoAdWaY           NaN  ...                         5.0   \n",
      "198909      mArKeT            St  ...                         1.0   \n",
      "\n",
      "       Existing Construction Type Description Proposed Construction Type  \\\n",
      "0                                         NaN                        NaN   \n",
      "1                              wood frame (5)                        5.0   \n",
      "2                              wood frame (5)                        5.0   \n",
      "3                              wood frame (5)                        5.0   \n",
      "4                              wood frame (5)                        5.0   \n",
      "...                                       ...                        ...   \n",
      "198905                          constr type 2                        2.0   \n",
      "198906                         wood frame (5)                        5.0   \n",
      "198907                         wood frame (5)                        5.0   \n",
      "198908                         wood frame (5)                        5.0   \n",
      "198909                          constr type 1                        1.0   \n",
      "\n",
      "       Proposed Construction Type Description Site Permit Supervisor District  \\\n",
      "0                                         NaN         NaN                 3.0   \n",
      "1                              wood frame (5)         NaN                 4.0   \n",
      "2                              wood frame (5)         NaN                 9.0   \n",
      "3                              wood frame (5)         NaN                 5.0   \n",
      "4                              wood frame (5)         NaN                 9.0   \n",
      "...                                       ...         ...                 ...   \n",
      "198905                          constr type 2         NaN                 7.0   \n",
      "198906                         wood frame (5)         NaN                10.0   \n",
      "198907                         wood frame (5)         NaN                10.0   \n",
      "198908                         wood frame (5)         NaN                 3.0   \n",
      "198909                          constr type 1         NaN                 6.0   \n",
      "\n",
      "       Neighborhoods - Analysis Boundaries  Zipcode  \\\n",
      "0                                 Nob Hill  94109.0   \n",
      "1                          Sunset/Parkside  94122.0   \n",
      "2                           Bernal Heights  94110.0   \n",
      "3                          Pacific Heights  94115.0   \n",
      "4                                  Mission  94110.0   \n",
      "...                                    ...      ...   \n",
      "198905                           Lakeshore  94132.0   \n",
      "198906                        Potrero Hill  94107.0   \n",
      "198907                             Mission  94110.0   \n",
      "198908                           Chinatown  94133.0   \n",
      "198909      Financial District/South Beach  94105.0   \n",
      "\n",
      "                                         Location      Record ID  \n",
      "0        (37.79362102799777, -122.41488237355445)  1464153232862  \n",
      "1       (37.759041020475465, -122.50286985467523)  1306559115258  \n",
      "2        (37.73778863007536, -122.41197863877355)  1462579187173  \n",
      "3        (37.78762264983362, -122.43099126735969)   136037778128  \n",
      "4        (37.75275550565926, -122.41707462095194)  1322242163712  \n",
      "...                                           ...            ...  \n",
      "198905  (37.728556952954136, -122.47676641508518)  1418495226171  \n",
      "198906   (37.76328445631136, -122.40287014554292)  1400885168656  \n",
      "198907   (37.75260530951628, -122.40400191084352)  1431897172643  \n",
      "198908    (37.79800446861674, -122.4080339831039)  1449660232064  \n",
      "198909   (37.79040639954478, -122.39927546096968)  1420790164534  \n",
      "\n",
      "[198910 rows x 43 columns]>\n"
     ]
    }
   ],
   "source": [
    "import pandas as pd\n",
    "import matplotlib\n",
    "import seaborn\n",
    "\n",
    "datos = pd.read_csv('permisos_construccion_2.csv')\n",
    "print(datos.head)\n",
    "# print(datos.dtypes)"
   ]
  },
  {
   "cell_type": "code",
   "execution_count": null,
   "outputs": [],
   "source": [],
   "metadata": {
    "collapsed": false
   }
  }
 ],
 "metadata": {
  "kernelspec": {
   "display_name": "Python 3",
   "language": "python",
   "name": "python3"
  },
  "language_info": {
   "codemirror_mode": {
    "name": "ipython",
    "version": 3
   },
   "file_extension": ".py",
   "mimetype": "text/x-python",
   "name": "python",
   "nbconvert_exporter": "python",
   "pygments_lexer": "ipython3",
   "version": "3.10.4"
  }
 },
 "nbformat": 4,
 "nbformat_minor": 2
}
