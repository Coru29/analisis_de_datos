{
 "cells": [
  {
   "cell_type": "code",
   "execution_count": 1,
   "id": "54a98013-6d47-4bd6-99c9-a553053994a8",
   "metadata": {},
   "outputs": [],
   "source": [
    "# Importación de librerías\n",
    "from neo4j import GraphDatabase\n",
    "import pandas as pd"
   ]
  },
  {
   "cell_type": "code",
   "execution_count": 2,
   "id": "39d61094-dec3-48c6-94df-5f2d02671f49",
   "metadata": {},
   "outputs": [],
   "source": [
    "# Parámetros de configuración de la conexión a Neo4j Aura Northwind\n",
    "uri = \"neo4j+s://4b09197b.databases.neo4j.io\"\n",
    "user = \"neo4j\"\n",
    "password = \"EIY_YKgEJO1ZEPSmPYO0sLbZ1kG99aX1mM8HTw0Rc1o\""
   ]
  },
  {
   "cell_type": "code",
   "execution_count": 4,
   "id": "796445f0-86a1-4b2c-9c3b-b7aef69b04a2",
   "metadata": {},
   "outputs": [],
   "source": [
    "# Función para obtener df a partir de una conexión\n",
    "def run_query(query, params={}):\n",
    "    with driver.session() as session:\n",
    "        result = session.run(query, params)\n",
    "        df = pd.DataFrame([r.values() for r in result], columns=result.keys())\n",
    "        return df\n",
    "# Conexión\n",
    "driver = GraphDatabase.driver(uri, auth=(user, password))"
   ]
  },
  {
   "cell_type": "code",
   "execution_count": 26,
   "id": "3f0beb8a-aa2c-4b82-b7fe-8afdbcd05384",
   "metadata": {},
   "outputs": [
    {
     "name": "stdout",
     "output_type": "stream",
     "text": [
      "                  product  cantidad\n",
      "0       Camembert Pierrot      1577\n",
      "1    Raclette Courdavault      1496\n",
      "2       Gorgonzola Telino      1397\n",
      "3  Gnocchi di nonna Alice      1263\n",
      "4                 Pavlova      1158\n",
      "5    Rhönbräu Klosterbier      1155\n",
      "6      Guaraná Fantástica      1125\n",
      "7        Boston Crab Meat      1103\n",
      "8          Tarte au sucre      1083\n",
      "9                   Chang      1057\n"
     ]
    }
   ],
   "source": [
    "# Top 10 productos más comprados\n",
    "print(run_query(\"MATCH (ord:Order)-[detalles:ORDERS]->(p:Product) RETURN p.productName as product, SUM(detalles.quantity) AS cantidad ORDER BY cantidad DESC limit 10\")) "
   ]
  },
  {
   "cell_type": "code",
   "execution_count": 27,
   "id": "93174d02-e80c-49ca-a7f2-29d97c8ad12b",
   "metadata": {},
   "outputs": [
    {
     "name": "stdout",
     "output_type": "stream",
     "text": [
      "                      product\n",
      "0                       Chang\n",
      "1               Aniseed Syrup\n",
      "2              Queso Cabrales\n",
      "3         Sir Rodney's Scones\n",
      "4           Gorgonzola Telino\n",
      "5          Mascarpone Fabioli\n",
      "6                  Gravad lax\n",
      "7                 Rogede sild\n",
      "8                   Chocolade\n",
      "9                    Maxilaku\n",
      "10  Wimmers gute Semmelknödel\n",
      "11  Louisiana Hot Spiced Okra\n",
      "12        Scottish Longbreads\n",
      "13              Longlife Tofu\n"
     ]
    }
   ],
   "source": [
    "# Productos de los que tengo más demanda que stock\n",
    "print(run_query(\"MATCH (p:Product) WHERE p.unitsInStock < p.unitsOnOrder RETURN p.productName as product\"))"
   ]
  },
  {
   "cell_type": "code",
   "execution_count": 28,
   "id": "9477738d-a3ee-4ef6-a8d3-668df945aa92",
   "metadata": {},
   "outputs": [
    {
     "name": "stdout",
     "output_type": "stream",
     "text": [
      "  cat.categoryName  cantidad\n",
      "0      Confections        13\n",
      "1        Beverages        12\n",
      "2       Condiments        12\n",
      "3          Seafood        12\n",
      "4   Dairy Products        10\n",
      "5   Grains/Cereals         7\n",
      "6     Meat/Poultry         6\n",
      "7          Produce         5\n"
     ]
    }
   ],
   "source": [
    "# Top 10 de categorías con más producots\n",
    "print(run_query(\"MATCH (p:Product)-[:PART_OF]->(cat:Category) RETURN cat.categoryName, COUNT(p) AS cantidad ORDER BY cantidad DESC limit 10\"))"
   ]
  },
  {
   "cell_type": "code",
   "execution_count": 29,
   "id": "97654dcf-8e3d-4717-b0c0-eea26a7f4f28",
   "metadata": {},
   "outputs": [
    {
     "name": "stdout",
     "output_type": "stream",
     "text": [
      "                   product precio\n",
      "0   Mozzarella di Giovanni  34.80\n",
      "1   Mozzarella di Giovanni  27.80\n",
      "2   Mozzarella di Giovanni  27.80\n",
      "3   Mozzarella di Giovanni  27.80\n",
      "4   Mozzarella di Giovanni  27.80\n",
      "5   Mozzarella di Giovanni  27.80\n",
      "6   Mozzarella di Giovanni  27.80\n",
      "7   Mozzarella di Giovanni  27.80\n",
      "8   Mozzarella di Giovanni  27.80\n",
      "9   Mozzarella di Giovanni  27.80\n",
      "10  Mozzarella di Giovanni  27.80\n",
      "11  Mozzarella di Giovanni  27.80\n",
      "12  Mozzarella di Giovanni  27.80\n",
      "13  Mozzarella di Giovanni  27.80\n",
      "14  Mozzarella di Giovanni  27.80\n",
      "15  Mozzarella di Giovanni  27.80\n",
      "16  Mozzarella di Giovanni  34.80\n",
      "17  Mozzarella di Giovanni  34.80\n",
      "18  Mozzarella di Giovanni  34.80\n",
      "19  Mozzarella di Giovanni  34.80\n",
      "20  Mozzarella di Giovanni  34.80\n",
      "21  Mozzarella di Giovanni  34.80\n",
      "22  Mozzarella di Giovanni  34.80\n",
      "23  Mozzarella di Giovanni  34.80\n",
      "24  Mozzarella di Giovanni  34.80\n",
      "25  Mozzarella di Giovanni  34.80\n",
      "26  Mozzarella di Giovanni  34.80\n",
      "27  Mozzarella di Giovanni  34.80\n",
      "28  Mozzarella di Giovanni  34.80\n",
      "29  Mozzarella di Giovanni  34.80\n",
      "30  Mozzarella di Giovanni  34.80\n",
      "31  Mozzarella di Giovanni  34.80\n",
      "32  Mozzarella di Giovanni  34.80\n",
      "33  Mozzarella di Giovanni  34.80\n",
      "34  Mozzarella di Giovanni  34.80\n",
      "35  Mozzarella di Giovanni  34.80\n",
      "36  Mozzarella di Giovanni  34.80\n",
      "37  Mozzarella di Giovanni  34.80\n"
     ]
    }
   ],
   "source": [
    "# Evolución de precios 'Mozzarella di Giovanni'\n",
    "print(run_query(\"MATCH (ord:Order)-[detalles:ORDERS]->(p:Product) WHERE p.productID = '72' RETURN p.productName as product, detalles.unitPrice as precio ORDER BY ord.orderDate ASC\")) "
   ]
  },
  {
   "cell_type": "code",
   "execution_count": 30,
   "id": "cee6a211-5de8-46e9-be35-346affd8e2d6",
   "metadata": {},
   "outputs": [
    {
     "name": "stdout",
     "output_type": "stream",
     "text": [
      "                       s.companyName  cantidad\n",
      "0  Plutzer Lebensmittelgroßmärkte AG         5\n",
      "1                            Pavlova         5\n",
      "2         New Orleans Cajun Delights         4\n",
      "3                 Specialty Biscuits         4\n",
      "4                           Mayumi's         3\n",
      "5          Grandma Kelly's Homestead         3\n",
      "6        Heli Süßwaren GmbH & Co. KG         3\n",
      "7                      Tokyo Traders         3\n",
      "8                     Exotic Liquids         3\n",
      "9            Formaggi Fortini s.r.l.         3\n"
     ]
    }
   ],
   "source": [
    "# Top 10 de proveedores con más productos\n",
    "print(run_query(\"MATCH (s:Supplier)-[:SUPPLIES]->(p:Product) RETURN s.companyName, COUNT(p) AS cantidad ORDER BY cantidad DESC limit 10\"))"
   ]
  },
  {
   "cell_type": "code",
   "execution_count": 31,
   "id": "a51cf990-59ef-46d4-9702-ff6123b7e6ca",
   "metadata": {},
   "outputs": [
    {
     "name": "stdout",
     "output_type": "stream",
     "text": [
      "                  c.companyName  cantidad\n",
      "0            Save-a-lot Markets        31\n",
      "1                  Ernst Handel        30\n",
      "2                    QUICK-Stop        28\n",
      "3  Hungry Owl All-Night Grocers        19\n",
      "4                Folk och fä HB        19\n",
      "5              HILARION-Abastos        18\n",
      "6            Berglunds snabbköp        18\n",
      "7    Rattlesnake Canyon Grocery        18\n",
      "8                      Bon app'        17\n",
      "9                Frankenversand        15\n"
     ]
    }
   ],
   "source": [
    "# Top 10 de clientes con más compras\n",
    "print(run_query(\"MATCH (c:Customer)-[:PURCHASED]->(o:Order) RETURN c.companyName, COUNT(o) AS cantidad ORDER BY cantidad DESC limit 10\"))"
   ]
  }
 ],
 "metadata": {
  "kernelspec": {
   "display_name": "Python 3 (ipykernel)",
   "language": "python",
   "name": "python3"
  },
  "language_info": {
   "codemirror_mode": {
    "name": "ipython",
    "version": 3
   },
   "file_extension": ".py",
   "mimetype": "text/x-python",
   "name": "python",
   "nbconvert_exporter": "python",
   "pygments_lexer": "ipython3",
   "version": "3.12.1"
  }
 },
 "nbformat": 4,
 "nbformat_minor": 5
}
